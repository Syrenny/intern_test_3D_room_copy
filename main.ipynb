{
 "cells": [
  {
   "cell_type": "code",
   "execution_count": 1,
   "id": "initial_id",
   "metadata": {
    "collapsed": true,
    "ExecuteTime": {
     "end_time": "2024-02-08T14:16:56.194693800Z",
     "start_time": "2024-02-08T14:16:54.828228400Z"
    }
   },
   "outputs": [],
   "source": [
    "import cv2\n",
    "import numpy as np\n",
    "import matplotlib.pyplot as plt\n",
    "import json "
   ]
  },
  {
   "cell_type": "markdown",
   "source": [
    "### Загрузка необходимых данных "
   ],
   "metadata": {
    "collapsed": false
   },
   "id": "820b224568a3552c"
  },
  {
   "cell_type": "code",
   "outputs": [],
   "source": [
    "with open(\"data/test_object_lu.json\", \"r\") as file:\n",
    "    map_objects = json.load(file)\n",
    "    \n",
    "partition = cv2.imread('data/partition.jpg')\n",
    "v_corners = np.load(\"data/v_corners.npy\")\n",
    "h_corners = np.load(\"data/h_corners.npy\")\n",
    "panorama = cv2.imread(\"data/image_1024_aligned_rgb.png\")\n",
    "depth = np.load(\"data/depth_map.npy\")"
   ],
   "metadata": {
    "collapsed": false,
    "ExecuteTime": {
     "end_time": "2024-02-08T14:16:56.262698800Z",
     "start_time": "2024-02-08T14:16:56.190692600Z"
    }
   },
   "id": "e71a3ffa0912992d",
   "execution_count": 2
  },
  {
   "cell_type": "code",
   "outputs": [
    {
     "name": "stdout",
     "output_type": "stream",
     "text": [
      "(512, 1024)\n",
      "[[1.2148892 1.2148892 1.2148892 ... 1.2148892 1.2148892 1.2148892]\n",
      " [1.2149348 1.2149348 1.2149348 ... 1.2149348 1.2149348 1.2149348]\n",
      " [1.2150264 1.2150264 1.2150264 ... 1.2150264 1.2150264 1.2150264]\n",
      " ...\n",
      " [1.6001883 1.6001883 1.6001883 ... 1.6001883 1.6001883 1.6001883]\n",
      " [1.6000677 1.6000677 1.6000677 ... 1.6000677 1.6000677 1.6000677]\n",
      " [1.6000075 1.6000075 1.6000075 ... 1.6000075 1.6000075 1.6000075]]\n"
     ]
    }
   ],
   "source": [
    "print(depth.shape)\n",
    "print(depth)\n",
    "# Нормализация данных с камеры глубины\n",
    "scaled_depth = ((depth - np.min(depth)) / (np.max(depth) - np.min(depth)) * 255).astype(np.uint8)\n",
    "cv2.imshow('Depth Image', scaled_depth)\n",
    "cv2.waitKey(0)\n",
    "cv2.destroyAllWindows()"
   ],
   "metadata": {
    "collapsed": false,
    "ExecuteTime": {
     "end_time": "2024-02-08T14:17:05.536419900Z",
     "start_time": "2024-02-08T14:16:56.261700700Z"
    }
   },
   "id": "7345ea0efa426f33",
   "execution_count": 3
  },
  {
   "cell_type": "code",
   "outputs": [],
   "source": [
    "# Загрузить изображения\n",
    "alpha = 0.5\n",
    "\n",
    "# Преобразовать глубину в трехканальное изображение\n",
    "depth_colored = cv2.applyColorMap((scaled_depth * 255).astype(np.uint8), cv2.COLORMAP_JET)\n",
    "\n",
    "# Наложить изображения\n",
    "overlay = cv2.addWeighted(panorama, alpha, depth_colored, 1 - alpha, 0)\n",
    "\n",
    "# Вывести результат\n",
    "cv2.imshow('Overlay', overlay)\n",
    "cv2.waitKey(0)\n",
    "cv2.destroyAllWindows()"
   ],
   "metadata": {
    "collapsed": false,
    "ExecuteTime": {
     "end_time": "2024-02-08T14:17:06.107500300Z",
     "start_time": "2024-02-08T14:17:05.476734800Z"
    }
   },
   "id": "91739aba9e1c40c6",
   "execution_count": 4
  },
  {
   "cell_type": "code",
   "outputs": [
    {
     "name": "stdout",
     "output_type": "stream",
     "text": [
      "[[  30.914364  222.41164 ]\n",
      " [  30.914364  298.64883 ]\n",
      " [ 363.15613   140.81924 ]\n",
      " [ 363.15613   392.54047 ]\n",
      " [ 672.78357   149.66058 ]\n",
      " [ 672.78357   383.4991  ]\n",
      " [ 801.5895    137.09825 ]\n",
      " [ 801.5895    396.26495 ]\n",
      " [ 845.40314    76.09795 ]\n",
      " [ 845.40314   451.50623 ]\n",
      " [1008.1279    221.95033 ]\n",
      " [1008.1279    299.23853 ]]\n"
     ]
    }
   ],
   "source": [
    "cv2.imshow(\"source_image\", panorama)\n",
    "cv2.waitKey(0)\n",
    "cv2.destroyAllWindows()\n",
    "print(v_corners)"
   ],
   "metadata": {
    "collapsed": false,
    "ExecuteTime": {
     "end_time": "2024-02-08T14:17:06.581469800Z",
     "start_time": "2024-02-08T14:17:06.033187800Z"
    }
   },
   "id": "726b51aeffb24133",
   "execution_count": 5
  },
  {
   "cell_type": "code",
   "outputs": [
    {
     "name": "stdout",
     "output_type": "stream",
     "text": [
      "[ 30.914364 222.41164 ] [ 30.914364 298.64883 ] [363.15613 140.81924] [363.15613 392.54047]\n",
      "[363.15613 140.81924] [363.15613 392.54047] [672.78357 149.66058] [672.78357 383.4991 ]\n",
      "[672.78357 149.66058] [672.78357 383.4991 ] [801.5895  137.09825] [801.5895  396.26495]\n",
      "[801.5895  137.09825] [801.5895  396.26495] [845.40314  76.09795] [845.40314 451.50623]\n",
      "[845.40314  76.09795] [845.40314 451.50623] [1008.1279   221.95033] [1008.1279   299.23853]\n"
     ]
    }
   ],
   "source": [
    "for i in range(0, len(v_corners) - 2, 2):\n",
    "    print(v_corners[i], v_corners[i + 1], v_corners[i + 2], v_corners[i + 3])"
   ],
   "metadata": {
    "collapsed": false,
    "ExecuteTime": {
     "end_time": "2024-02-08T14:17:06.884081200Z",
     "start_time": "2024-02-08T14:17:06.481978Z"
    }
   },
   "id": "bab1de96c9722a74",
   "execution_count": 6
  },
  {
   "cell_type": "code",
   "outputs": [
    {
     "name": "stdout",
     "output_type": "stream",
     "text": [
      "[[221.67708 221.43863 221.38431 ... 222.38773 223.78665 223.0257 ]\n",
      " [299.86584 298.79175 299.72705 ... 298.76703 297.46896 299.3693 ]]\n"
     ]
    }
   ],
   "source": [
    "print(h_corners)"
   ],
   "metadata": {
    "collapsed": false,
    "ExecuteTime": {
     "end_time": "2024-02-08T14:17:07.065276600Z",
     "start_time": "2024-02-08T14:17:06.540036100Z"
    }
   },
   "id": "c6cce8a3069ae207",
   "execution_count": 7
  },
  {
   "cell_type": "code",
   "outputs": [
    {
     "name": "stdout",
     "output_type": "stream",
     "text": [
      "(512, 1024, 3)\n"
     ]
    }
   ],
   "source": [
    "print(panorama.shape)"
   ],
   "metadata": {
    "collapsed": false,
    "ExecuteTime": {
     "end_time": "2024-02-08T14:17:07.113873600Z",
     "start_time": "2024-02-08T14:17:06.583552Z"
    }
   },
   "id": "43eee3934ea5b815",
   "execution_count": 8
  },
  {
   "cell_type": "markdown",
   "source": [],
   "metadata": {
    "collapsed": false
   },
   "id": "84afb24236e4d4a0"
  },
  {
   "cell_type": "markdown",
   "source": [
    "### Влоб"
   ],
   "metadata": {
    "collapsed": false
   },
   "id": "bf1357027606bc20"
  },
  {
   "cell_type": "code",
   "outputs": [],
   "source": [
    "num_rows = 250\n",
    "num_columns = 1\n",
    "channels = 3  # для цветных изображений (BGR)\n",
    "new_image = np.zeros((num_rows, num_columns, channels), dtype=np.uint8)\n",
    "for i in range(h_corners.shape[1]):\n",
    "    lower, upper = h_corners[:,i].astype(int)\n",
    "    sliced = panorama[:, i][lower:upper]\n",
    "    resized = cv2.resize(sliced, (3, 250)).reshape((250, 1, 3))\n",
    "    new_image = np.hstack([new_image, resized])\n",
    "    \n",
    "cv2.imshow(\"new_image\", new_image)\n",
    "cv2.waitKey(0)\n",
    "cv2.destroyAllWindows()\n"
   ],
   "metadata": {
    "collapsed": false,
    "ExecuteTime": {
     "end_time": "2024-02-08T14:17:07.675579500Z",
     "start_time": "2024-02-08T14:17:06.640531500Z"
    }
   },
   "id": "2cb251d2ac78c64",
   "execution_count": 9
  },
  {
   "cell_type": "markdown",
   "source": [
    "### Сначала убираем вертикальное искажение, затем коррекция перспективы"
   ],
   "metadata": {
    "collapsed": false
   },
   "id": "2ac443ff596b9fea"
  },
  {
   "cell_type": "code",
   "outputs": [
    {
     "ename": "TypeError",
     "evalue": "'numpy.float32' object cannot be interpreted as an integer",
     "output_type": "error",
     "traceback": [
      "\u001B[1;31m---------------------------------------------------------------------------\u001B[0m",
      "\u001B[1;31mTypeError\u001B[0m                                 Traceback (most recent call last)",
      "Cell \u001B[1;32mIn[10], line 20\u001B[0m\n\u001B[0;32m     17\u001B[0m sequence \u001B[38;5;241m=\u001B[39m upper_sequence \u001B[38;5;241m-\u001B[39m lower_sequence\n\u001B[0;32m     19\u001B[0m panorama_copy \u001B[38;5;241m=\u001B[39m panorama\u001B[38;5;241m.\u001B[39mcopy()\n\u001B[1;32m---> 20\u001B[0m \u001B[38;5;28;01mfor\u001B[39;00m new_size, panorama_pos, seq_pos \u001B[38;5;129;01min\u001B[39;00m \u001B[38;5;28mzip\u001B[39m(sequence\u001B[38;5;241m.\u001B[39mastype(\u001B[38;5;28mint\u001B[39m), \u001B[38;5;28;43mrange\u001B[39;49m\u001B[43m(\u001B[49m\u001B[43mleft_lower\u001B[49m\u001B[43m[\u001B[49m\u001B[38;5;241;43m0\u001B[39;49m\u001B[43m]\u001B[49m\u001B[43m,\u001B[49m\u001B[43m \u001B[49m\u001B[43mright_lower\u001B[49m\u001B[43m[\u001B[49m\u001B[38;5;241;43m0\u001B[39;49m\u001B[43m]\u001B[49m\u001B[43m)\u001B[49m, \u001B[38;5;28mrange\u001B[39m(width)):\n\u001B[0;32m     21\u001B[0m     lower, upper \u001B[38;5;241m=\u001B[39m h_corners[:,panorama_pos]\u001B[38;5;241m.\u001B[39mastype(\u001B[38;5;28mint\u001B[39m)\n\u001B[0;32m     22\u001B[0m     sliced \u001B[38;5;241m=\u001B[39m panorama_copy[:, panorama_pos][lower:upper]\n",
      "\u001B[1;31mTypeError\u001B[0m: 'numpy.float32' object cannot be interpreted as an integer"
     ]
    }
   ],
   "source": [
    "pts_plane = [[[0, 0], [0, 250], [602, 0], [602, 250]],\n",
    "             [[0, 0], [0, 250], [205, 0], [205, 250]],\n",
    "             [[0, 0], [0, 250], [164, 0], [164, 250]],\n",
    "             [[0, 0], [0, 250], [40, 0], [40, 250]],\n",
    "             [[0, 0], [0, 250], [438, 0], [438, 250]]]\n",
    "\n",
    "for i in range(0, len(v_corners) - 2, 2):\n",
    "    area_idx = i // 2\n",
    "    # Координаты для ключевых точек областей на исходной панораме\n",
    "    left_lower, left_upper, right_lower, right_upper = v_corners[i], v_corners[i + 1], v_corners[i + 2], v_corners[i + 3]\n",
    "    # Нахождение новой высоты для каждого столбца области \n",
    "    v_corners = v_corners.astype(int)\n",
    "    # Ширина области на исходной панораме\n",
    "    width = int(abs(left_upper[0] - right_upper[0]))\n",
    "    upper_sequence = np.linspace(left_upper[1], right_upper[1], width).astype(int)\n",
    "    lower_sequence = np.linspace(left_lower[1], right_lower[1], width).astype(int)\n",
    "    sequence = upper_sequence - lower_sequence\n",
    "    \n",
    "    panorama_copy = panorama.copy()\n",
    "    for new_size, panorama_pos, seq_pos in zip(sequence.astype(int), range(left_lower[0], right_lower[0]), range(width)):\n",
    "        lower, upper = h_corners[:,panorama_pos].astype(int)\n",
    "        sliced = panorama_copy[:, panorama_pos][lower:upper]\n",
    "        resized = cv2.resize(sliced, (3, new_size))\n",
    "        panorama_copy[:, panorama_pos][lower_sequence[seq_pos]:upper_sequence[seq_pos]] = resized\n",
    "        \n",
    "    # Отображение результата\n",
    "    cv2.imshow('new_panorama', panorama_copy)\n",
    "    cv2.waitKey(0)\n",
    "    cv2.destroyAllWindows()\n",
    "    \n",
    "    # Определение ключевых точек на панораме и плоскости\n",
    "    pts_panorama = np.float32([left_lower, left_upper, right_lower, right_upper])\n",
    "    \n",
    "    # Вычисление матрицы преобразования\n",
    "    matrix = cv2.getPerspectiveTransform(pts_panorama, np.float32(pts_plane[area_idx]))\n",
    "    \n",
    "    # Применение преобразования\n",
    "    result = cv2.warpPerspective(panorama_copy, matrix, [pts_plane[area_idx][2][0], 250])\n",
    "    \n",
    "    # Отображение результата\n",
    "    cv2.imshow('Projected Image', result)\n",
    "    cv2.waitKey(0)\n",
    "    cv2.destroyAllWindows()"
   ],
   "metadata": {
    "collapsed": false,
    "ExecuteTime": {
     "end_time": "2024-02-08T14:17:09.672133Z",
     "start_time": "2024-02-08T14:17:07.676578700Z"
    }
   },
   "id": "e8fd91d43fcd623e",
   "execution_count": 10
  },
  {
   "cell_type": "code",
   "outputs": [],
   "source": [
    "concatenated_panorama = np.concatenate((partition, partition), axis=1)\n",
    "cv2.imshow(\"Concatenated\", concatenated_panorama)\n",
    "cv2.waitKey(0)\n",
    "cv2.destroyAllWindows()"
   ],
   "metadata": {
    "collapsed": false,
    "ExecuteTime": {
     "end_time": "2024-02-08T14:17:09.718011900Z",
     "start_time": "2024-02-08T14:17:09.684043500Z"
    }
   },
   "id": "145afec1b16e6ba3",
   "execution_count": null
  },
  {
   "cell_type": "code",
   "outputs": [],
   "source": [
    "def depth_to_coordinates(depth_map, fx, fy, cx, cy):\n",
    "    \"\"\"\n",
    "    Преобразует карту глубины в 3D координаты.\n",
    "\n",
    "    Параметры:\n",
    "    - depth_map: Карта глубины.\n",
    "    - fx, fy: Фокусные расстояния камеры.\n",
    "    - cx, cy: Координаты центра изображения.\n",
    "\n",
    "    Возвращает массив 3D координат в мировой системе координат.\n",
    "    \"\"\"\n",
    "    rows, cols = depth_map.shape\n",
    "    coordinates = np.zeros((rows, cols, 3), dtype=np.float32)\n",
    "\n",
    "    for y in range(rows):\n",
    "        for x in range(cols):\n",
    "            depth = depth_map[y, x]\n",
    "            coordinates[y, x, 0] = (x - cx) * depth / fx\n",
    "            coordinates[y, x, 1] = (y - cy) * depth / fy\n",
    "            coordinates[y, x, 2] = depth\n",
    "\n",
    "    return coordinates\n",
    "\n",
    " # Загрузка карты глубины\n",
    "depth_map = depth\n",
    "\n",
    "# Параметры камеры (пример значения)\n",
    "fx = 500.0  # фокусное расстояние по горизонтали\n",
    "fy = 500.0  # фокусное расстояние по вертикали\n",
    "cx = depth_map.shape[1] / 2.0  # координата центра изображения по горизонтали\n",
    "cy = depth_map.shape[0] / 2.0  # координата центра изображения по вертикали\n",
    "\n",
    "# Преобразование карты глубины в 3D координаты\n",
    "coordinates = depth_to_coordinates(depth_map, fx, fy, cx, cy)\n",
    "\n",
    "# Вывод 3D координат первой точки\n",
    "print(\"3D Coordinates of the first point:\", coordinates)\n",
    "\n"
   ],
   "metadata": {
    "collapsed": false,
    "ExecuteTime": {
     "start_time": "2024-02-08T14:17:09.692027500Z"
    }
   },
   "id": "80ee17c76d9f8a58",
   "execution_count": null
  },
  {
   "cell_type": "code",
   "outputs": [],
   "source": [
    "import open3d as o3d\n",
    "import numpy as np\n",
    "\n",
    "# Создание случайного облака точек для примера\n",
    "np.random.seed(123)\n",
    "points = np.random.rand(100, 3)\n",
    "\n",
    "# Создание объекта облака точек\n",
    "point_cloud = o3d.geometry.PointCloud()\n",
    "point_cloud.points = o3d.utility.Vector3dVector(points)\n",
    "\n",
    "# Визуализация облака точек\n",
    "o3d.visualization.draw_geometries([point_cloud])\n",
    "# Сохранение облака точек\n",
    "o3d.io.write_point_cloud(\"point_cloud.ply\", point_cloud)\n",
    "\n",
    "# Загрузка облака точек\n",
    "loaded_point_cloud = o3d.io.read_point_cloud(\"point_cloud.ply\")\n",
    "o3d.visualization.draw_geometries([loaded_point_cloud])\n"
   ],
   "metadata": {
    "collapsed": false,
    "ExecuteTime": {
     "start_time": "2024-02-08T14:17:09.697892Z"
    }
   },
   "id": "53fc0fd1bafebe6d",
   "execution_count": null
  },
  {
   "cell_type": "code",
   "outputs": [
    {
     "ename": "AttributeError",
     "evalue": "module 'open3d.cpu.pybind.geometry' has no attribute 'create_point_cloud_from_rgbd_image'",
     "output_type": "error",
     "traceback": [
      "\u001B[1;31m---------------------------------------------------------------------------\u001B[0m",
      "\u001B[1;31mAttributeError\u001B[0m                            Traceback (most recent call last)",
      "Cell \u001B[1;32mIn[14], line 22\u001B[0m\n\u001B[0;32m     15\u001B[0m cy \u001B[38;5;241m=\u001B[39m depth\u001B[38;5;241m.\u001B[39mshape[\u001B[38;5;241m0\u001B[39m] \u001B[38;5;241m/\u001B[39m \u001B[38;5;241m2.0\u001B[39m  \u001B[38;5;66;03m# координата центра изображения по вертикали\u001B[39;00m\n\u001B[0;32m     17\u001B[0m intrinsics \u001B[38;5;241m=\u001B[39m o3d\u001B[38;5;241m.\u001B[39mcamera\u001B[38;5;241m.\u001B[39mPinholeCameraIntrinsic(\n\u001B[0;32m     18\u001B[0m     width\u001B[38;5;241m=\u001B[39mrgb_image\u001B[38;5;241m.\u001B[39mshape[\u001B[38;5;241m1\u001B[39m], height\u001B[38;5;241m=\u001B[39mrgb_image\u001B[38;5;241m.\u001B[39mshape[\u001B[38;5;241m0\u001B[39m],\n\u001B[0;32m     19\u001B[0m     fx\u001B[38;5;241m=\u001B[39mfx, fy\u001B[38;5;241m=\u001B[39mfy, cx\u001B[38;5;241m=\u001B[39mcx, cy\u001B[38;5;241m=\u001B[39mcy\n\u001B[0;32m     20\u001B[0m )\n\u001B[1;32m---> 22\u001B[0m point_cloud \u001B[38;5;241m=\u001B[39m \u001B[43mo3d\u001B[49m\u001B[38;5;241;43m.\u001B[39;49m\u001B[43mgeometry\u001B[49m\u001B[38;5;241;43m.\u001B[39;49m\u001B[43mcreate_point_cloud_from_rgbd_image\u001B[49m(rgbd_image, intrinsics)\n\u001B[0;32m     24\u001B[0m \u001B[38;5;66;03m# Визуализация облака точек\u001B[39;00m\n\u001B[0;32m     25\u001B[0m o3d\u001B[38;5;241m.\u001B[39mvisualization\u001B[38;5;241m.\u001B[39mdraw_geometries([point_cloud])\n",
      "\u001B[1;31mAttributeError\u001B[0m: module 'open3d.cpu.pybind.geometry' has no attribute 'create_point_cloud_from_rgbd_image'"
     ]
    }
   ],
   "source": [
    "import open3d as o3d\n",
    "import numpy as np\n",
    "import cv2\n",
    "\n",
    "rgb_image = panorama\n",
    "depth_image = depth\n",
    "\n",
    "# Создание облака точек из данных камеры RGB-D\n",
    "rgbd_image = o3d.geometry.RGBDImage.create_from_color_and_depth(\n",
    "    color=o3d.geometry.Image(rgb_image), \n",
    "    depth=o3d.geometry.Image(depth_image)\n",
    ")\n",
    "fx = 500.0  # фокусное расстояние по горизонтали\n",
    "fy = 500.0  # фокусное расстояние по вертикали\n",
    "cx = depth.shape[1] / 2.0  # координата центра изображения по горизонтали\n",
    "cy = depth.shape[0] / 2.0  # координата центра изображения по вертикали\n",
    "\n",
    "intrinsics = o3d.camera.PinholeCameraIntrinsic(\n",
    "    width=rgb_image.shape[1], height=rgb_image.shape[0],\n",
    "    fx=fx, fy=fy, cx=cx, cy=cy\n",
    ")\n",
    "\n",
    "point_cloud = o3d.geometry.create_point_cloud_from_rgbd_image(rgbd_image, intrinsics)\n",
    "\n",
    "# Визуализация облака точек\n",
    "o3d.visualization.draw_geometries([point_cloud])"
   ],
   "metadata": {
    "collapsed": false,
    "ExecuteTime": {
     "end_time": "2024-02-08T14:24:56.098260700Z",
     "start_time": "2024-02-08T14:24:56.009005Z"
    }
   },
   "id": "6a35f1671267a0a7",
   "execution_count": 14
  }
 ],
 "metadata": {
  "kernelspec": {
   "display_name": "Python 3",
   "language": "python",
   "name": "python3"
  },
  "language_info": {
   "codemirror_mode": {
    "name": "ipython",
    "version": 2
   },
   "file_extension": ".py",
   "mimetype": "text/x-python",
   "name": "python",
   "nbconvert_exporter": "python",
   "pygments_lexer": "ipython2",
   "version": "2.7.6"
  }
 },
 "nbformat": 4,
 "nbformat_minor": 5
}
