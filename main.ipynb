{
 "cells": [
  {
   "cell_type": "code",
   "execution_count": 3,
   "id": "initial_id",
   "metadata": {
    "collapsed": true,
    "ExecuteTime": {
     "end_time": "2024-02-12T08:39:55.480749700Z",
     "start_time": "2024-02-12T08:39:53.160058100Z"
    }
   },
   "outputs": [],
   "source": [
    "import cv2\n",
    "import numpy as np\n",
    "import matplotlib.pyplot as plt\n",
    "import json "
   ]
  },
  {
   "cell_type": "markdown",
   "source": [
    "### Загрузка необходимых данных "
   ],
   "metadata": {
    "collapsed": false
   },
   "id": "820b224568a3552c"
  },
  {
   "cell_type": "code",
   "outputs": [],
   "source": [
    "with open(\"data/test_object_lu.json\", \"r\") as file:\n",
    "    plan = json.load(file)\n",
    "    \n",
    "partition = cv2.imread('data/partition.jpg')\n",
    "v_corners = np.load(\"data/v_corners.npy\")\n",
    "h_corners = np.load(\"data/h_corners.npy\")\n",
    "panorama = cv2.imread(\"data/image_1024_aligned_rgb.png\")\n",
    "depth = np.load(\"data/depth_map.npy\") * 1000 # in millimeters "
   ],
   "metadata": {
    "collapsed": false,
    "ExecuteTime": {
     "end_time": "2024-02-12T08:39:55.519943700Z",
     "start_time": "2024-02-12T08:39:55.456692100Z"
    }
   },
   "id": "e71a3ffa0912992d",
   "execution_count": 4
  },
  {
   "cell_type": "code",
   "outputs": [
    {
     "name": "stdout",
     "output_type": "stream",
     "text": [
      "(512, 1024)\n",
      "6101.31\n",
      "[[1214.8892 1214.8892 1214.8892 ... 1214.8892 1214.8892 1214.8892]\n",
      " [1214.9348 1214.9348 1214.9348 ... 1214.9348 1214.9348 1214.9348]\n",
      " [1215.0264 1215.0264 1215.0264 ... 1215.0264 1215.0264 1215.0264]\n",
      " ...\n",
      " [1600.1882 1600.1882 1600.1882 ... 1600.1882 1600.1882 1600.1882]\n",
      " [1600.0677 1600.0677 1600.0677 ... 1600.0677 1600.0677 1600.0677]\n",
      " [1600.0076 1600.0076 1600.0076 ... 1600.0076 1600.0076 1600.0076]]\n"
     ]
    }
   ],
   "source": [
    "print(depth.shape)\n",
    "print(depth.max())\n",
    "print(depth)\n",
    "# Нормализация данных с камеры глубины\n",
    "scaled_depth = ((depth - np.min(depth)) / (np.max(depth) - np.min(depth)) * 255).astype(np.uint8)\n",
    "cv2.imshow('Depth Image', scaled_depth)\n",
    "cv2.waitKey(0)\n",
    "cv2.destroyAllWindows()"
   ],
   "metadata": {
    "collapsed": false,
    "ExecuteTime": {
     "end_time": "2024-02-13T11:51:45.787613100Z",
     "start_time": "2024-02-13T11:49:55.307395Z"
    }
   },
   "id": "7345ea0efa426f33",
   "execution_count": 123
  },
  {
   "cell_type": "code",
   "outputs": [],
   "source": [
    "# Загрузить изображения\n",
    "alpha = 0.7\n",
    "\n",
    "# Преобразовать глубину в трехканальное изображение\n",
    "depth_colored = cv2.applyColorMap((scaled_depth * 255).astype(np.uint8), cv2.COLORMAP_JET)\n",
    "\n",
    "# Наложить изображения\n",
    "overlay = cv2.addWeighted(panorama, alpha, depth_colored, 1 - alpha, 0)\n",
    "\n",
    "# Вывести результат\n",
    "cv2.imshow('Overlay', overlay)\n",
    "cv2.waitKey(0)\n",
    "cv2.destroyAllWindows()"
   ],
   "metadata": {
    "collapsed": false,
    "ExecuteTime": {
     "end_time": "2024-02-11T15:05:13.587110900Z",
     "start_time": "2024-02-11T15:05:13.108232400Z"
    }
   },
   "id": "91739aba9e1c40c6",
   "execution_count": 4
  },
  {
   "cell_type": "code",
   "outputs": [
    {
     "name": "stdout",
     "output_type": "stream",
     "text": [
      "[[  30.914364  222.41164 ]\n",
      " [  30.914364  298.64883 ]\n",
      " [ 363.15613   140.81924 ]\n",
      " [ 363.15613   392.54047 ]\n",
      " [ 672.78357   149.66058 ]\n",
      " [ 672.78357   383.4991  ]\n",
      " [ 801.5895    137.09825 ]\n",
      " [ 801.5895    396.26495 ]\n",
      " [ 845.40314    76.09795 ]\n",
      " [ 845.40314   451.50623 ]\n",
      " [1008.1279    221.95033 ]\n",
      " [1008.1279    299.23853 ]]\n"
     ]
    }
   ],
   "source": [
    "cv2.imshow(\"source_image\", panorama)\n",
    "cv2.waitKey(0)\n",
    "cv2.destroyAllWindows()\n",
    "print(v_corners)"
   ],
   "metadata": {
    "collapsed": false,
    "ExecuteTime": {
     "end_time": "2024-02-11T15:05:14.274719Z",
     "start_time": "2024-02-11T15:05:13.595111600Z"
    }
   },
   "id": "726b51aeffb24133",
   "execution_count": 5
  },
  {
   "cell_type": "code",
   "outputs": [
    {
     "name": "stdout",
     "output_type": "stream",
     "text": [
      "start of the line: 30\n",
      "end of the line: 363\n",
      "[[30, 222.71733], [62, 192.55711], [94, 169.15553], [126, 150.01512], [158, 136.72841], [190, 129.05185], [222, 124.01126], [254, 122.649155], [286, 123.07381], [318, 126.99274], [350, 135.25735]]\n"
     ]
    }
   ],
   "source": [
    "start = int(v_corners[0][0])\n",
    "print(\"start of the line:\", start)\n",
    "end = int(v_corners[2][0])\n",
    "print(\"end of the line:\", end)\n",
    "line = []\n",
    "for x in range(start, end+1, 32):\n",
    "    line.append([x, h_corners[:, x][0]])\n",
    "print(line)"
   ],
   "metadata": {
    "collapsed": false,
    "ExecuteTime": {
     "end_time": "2024-02-11T15:05:14.340959200Z",
     "start_time": "2024-02-11T15:05:14.281716300Z"
    }
   },
   "id": "f0f1f1e91b778535",
   "execution_count": 7
  },
  {
   "cell_type": "code",
   "outputs": [
    {
     "name": "stdout",
     "output_type": "stream",
     "text": [
      "[ 30.914364 222.41164 ] [ 30.914364 298.64883 ] [363.15613 140.81924] [363.15613 392.54047]\n",
      "[363.15613 140.81924] [363.15613 392.54047] [672.78357 149.66058] [672.78357 383.4991 ]\n",
      "[672.78357 149.66058] [672.78357 383.4991 ] [801.5895  137.09825] [801.5895  396.26495]\n",
      "[801.5895  137.09825] [801.5895  396.26495] [845.40314  76.09795] [845.40314 451.50623]\n",
      "[845.40314  76.09795] [845.40314 451.50623] [1008.1279   221.95033] [1008.1279   299.23853]\n"
     ]
    }
   ],
   "source": [
    "for i in range(0, len(v_corners) - 2, 2):\n",
    "    print(v_corners[i], v_corners[i + 1], v_corners[i + 2], v_corners[i + 3])"
   ],
   "metadata": {
    "collapsed": false,
    "ExecuteTime": {
     "end_time": "2024-02-11T15:05:14.344033Z",
     "start_time": "2024-02-11T15:05:14.292717800Z"
    }
   },
   "id": "bab1de96c9722a74",
   "execution_count": 8
  },
  {
   "cell_type": "code",
   "outputs": [
    {
     "name": "stdout",
     "output_type": "stream",
     "text": [
      "[[221.67708 221.43863 221.38431 ... 222.38773 223.78665 223.0257 ]\n",
      " [299.86584 298.79175 299.72705 ... 298.76703 297.46896 299.3693 ]]\n"
     ]
    }
   ],
   "source": [
    "print(h_corners)"
   ],
   "metadata": {
    "collapsed": false,
    "ExecuteTime": {
     "end_time": "2024-02-11T15:05:14.345031100Z",
     "start_time": "2024-02-11T15:05:14.309779800Z"
    }
   },
   "id": "c6cce8a3069ae207",
   "execution_count": 9
  },
  {
   "cell_type": "code",
   "outputs": [
    {
     "name": "stdout",
     "output_type": "stream",
     "text": [
      "(512, 1024, 3)\n"
     ]
    }
   ],
   "source": [
    "print(panorama.shape)"
   ],
   "metadata": {
    "collapsed": false,
    "ExecuteTime": {
     "end_time": "2024-02-11T15:05:14.433328500Z",
     "start_time": "2024-02-11T15:05:14.323905900Z"
    }
   },
   "id": "43eee3934ea5b815",
   "execution_count": 10
  },
  {
   "cell_type": "code",
   "outputs": [],
   "source": [
    "panorama_copy = panorama.copy()\n",
    "for pt in v_corners:\n",
    "        cv2.circle(panorama_copy, (int(pt[0]), int(pt[1])), 2, (0, 0, 255), -1)\n",
    "cv2.imshow(\"source_image\", panorama_copy)\n",
    "cv2.waitKey(0)\n",
    "cv2.destroyAllWindows()"
   ],
   "metadata": {
    "collapsed": false,
    "ExecuteTime": {
     "end_time": "2024-02-15T11:16:19.172084200Z",
     "start_time": "2024-02-15T11:15:57.118217200Z"
    }
   },
   "id": "2945bd023d41d1c3",
   "execution_count": 214
  },
  {
   "cell_type": "code",
   "outputs": [
    {
     "name": "stdout",
     "output_type": "stream",
     "text": [
      "{'5': (array([[ 30.914364, 222.41164 ],\n",
      "       [ 30.914364, 298.64883 ],\n",
      "       [363.15613 , 140.81924 ],\n",
      "       [363.15613 , 392.54047 ]], dtype=float32), 602), '0': (array([[363.15613, 140.81924],\n",
      "       [363.15613, 392.54047],\n",
      "       [672.78357, 149.66058],\n",
      "       [672.78357, 383.4991 ]], dtype=float32), 205), '1': (array([[672.78357, 149.66058],\n",
      "       [672.78357, 383.4991 ],\n",
      "       [801.5895 , 137.09825],\n",
      "       [801.5895 , 396.26495]], dtype=float32), 164), '2': (array([[801.5895 , 137.09825],\n",
      "       [801.5895 , 396.26495],\n",
      "       [845.40314,  76.09795],\n",
      "       [845.40314, 451.50623]], dtype=float32), 40), '3': (array([[ 845.40314,   76.09795],\n",
      "       [ 845.40314,  451.50623],\n",
      "       [1008.1279 ,  221.95033],\n",
      "       [1008.1279 ,  299.23853]], dtype=float32), 438), '4': (array([[1008.1279  ,  221.95033 ],\n",
      "       [1008.1279  ,  299.23853 ],\n",
      "       [  30.914364,  222.41164 ],\n",
      "       [  30.914364,  298.64883 ]], dtype=float32), 165), 'floor': [array([ 30.914364, 222.41164 ], dtype=float32), array([363.15613, 140.81924], dtype=float32), array([672.78357, 149.66058], dtype=float32), array([801.5895 , 137.09825], dtype=float32), array([845.40314,  76.09795], dtype=float32), array([1008.1279 ,  221.95033], dtype=float32)], 'ceil': [array([ 30.914364, 298.64883 ], dtype=float32), array([363.15613, 392.54047], dtype=float32), array([672.78357, 383.4991 ], dtype=float32), array([801.5895 , 396.26495], dtype=float32), array([845.40314, 451.50623], dtype=float32), array([1008.1279 ,  299.23853], dtype=float32)]}\n"
     ]
    }
   ],
   "source": [
    "ceil_height = 250\n",
    "area_mappings = {\n",
    "    '5': (v_corners[0:4], 602),\n",
    "    '0': (v_corners[2:6], 205),\n",
    "    '1': (v_corners[4:8], 164),\n",
    "    '2': (v_corners[6:10], 40),\n",
    "    '3': (v_corners[8:12], 438),\n",
    "    '4': (np.concatenate((v_corners[10:], v_corners[:2])), 165),\n",
    "    'floor': ([v_corners[i] for i in range(0, 12, 2)]),\n",
    "    'ceil': ([v_corners[i] for i in range(1, 12, 2)]),\n",
    "}\n",
    "print(area_mappings)"
   ],
   "metadata": {
    "collapsed": false,
    "ExecuteTime": {
     "end_time": "2024-02-13T08:27:57.758935600Z",
     "start_time": "2024-02-13T08:27:57.736787500Z"
    }
   },
   "id": "86b2d197ea6f8984",
   "execution_count": 85
  },
  {
   "cell_type": "code",
   "outputs": [
    {
     "ename": "AttributeError",
     "evalue": "module 'numpy' has no attribute 'float'.\n`np.float` was a deprecated alias for the builtin `float`. To avoid this error in existing code, use `float` by itself. Doing this will not modify any behavior and is safe. If you specifically wanted the numpy scalar type, use `np.float64` here.\nThe aliases was originally deprecated in NumPy 1.20; for more details and guidance see the original release note at:\n    https://numpy.org/devdocs/release/1.20.0-notes.html#deprecations",
     "output_type": "error",
     "traceback": [
      "\u001B[1;31m---------------------------------------------------------------------------\u001B[0m",
      "\u001B[1;31mAttributeError\u001B[0m                            Traceback (most recent call last)",
      "Cell \u001B[1;32mIn[285], line 72\u001B[0m\n\u001B[0;32m     67\u001B[0m out_hw \u001B[38;5;241m=\u001B[39m (\n\u001B[0;32m     68\u001B[0m     (h \u001B[38;5;241m*\u001B[39m fov_deg[\u001B[38;5;241m1\u001B[39m]) \u001B[38;5;241m/\u001B[39m\u001B[38;5;241m/\u001B[39m \u001B[38;5;241m180\u001B[39m,\n\u001B[0;32m     69\u001B[0m     (w \u001B[38;5;241m*\u001B[39m fov_deg[\u001B[38;5;241m0\u001B[39m]) \u001B[38;5;241m/\u001B[39m\u001B[38;5;241m/\u001B[39m \u001B[38;5;241m360\u001B[39m,\n\u001B[0;32m     70\u001B[0m )\n\u001B[0;32m     71\u001B[0m mapper \u001B[38;5;241m=\u001B[39m fisheyeImgConv()\n\u001B[1;32m---> 72\u001B[0m pers_img1 \u001B[38;5;241m=\u001B[39m \u001B[43mmapper\u001B[49m\u001B[38;5;241;43m.\u001B[39;49m\u001B[43meqruirect2persp\u001B[49m\u001B[43m(\u001B[49m\u001B[43mequirectangular_img\u001B[49m\u001B[43m,\u001B[49m\u001B[43m \u001B[49m\u001B[38;5;241;43m150\u001B[39;49m\u001B[43m,\u001B[49m\u001B[43m \u001B[49m\u001B[38;5;241;43m0\u001B[39;49m\u001B[43m,\u001B[49m\u001B[43m \u001B[49m\u001B[38;5;241;43m0\u001B[39;49m\u001B[43m,\u001B[49m\u001B[43m \u001B[49m\u001B[43mout_hw\u001B[49m\u001B[43m[\u001B[49m\u001B[38;5;241;43m0\u001B[39;49m\u001B[43m]\u001B[49m\u001B[43m,\u001B[49m\u001B[43m \u001B[49m\u001B[43mout_hw\u001B[49m\u001B[43m[\u001B[49m\u001B[38;5;241;43m1\u001B[39;49m\u001B[43m]\u001B[49m\u001B[43m)\u001B[49m\n\u001B[0;32m     73\u001B[0m pers_img \u001B[38;5;241m=\u001B[39m e2p(equirectangular_img, fov_deg, u_deg, v_deg, out_hw, in_rot_deg\u001B[38;5;241m=\u001B[39m\u001B[38;5;241m0\u001B[39m, mode\u001B[38;5;241m=\u001B[39m\u001B[38;5;124m'\u001B[39m\u001B[38;5;124mbilinear\u001B[39m\u001B[38;5;124m'\u001B[39m)\n\u001B[0;32m     74\u001B[0m cv2\u001B[38;5;241m.\u001B[39mimshow(\u001B[38;5;124m'\u001B[39m\u001B[38;5;124mOverlay1\u001B[39m\u001B[38;5;124m'\u001B[39m, pers_img1)\n",
      "File \u001B[1;32m~\\AppData\\Local\\Programs\\Python\\Python39\\lib\\site-packages\\omnicv\\omnicv.py:389\u001B[0m, in \u001B[0;36mfisheyeImgConv.eqruirect2persp\u001B[1;34m(self, img, FOV, THETA, PHI, Hd, Wd)\u001B[0m\n\u001B[0;32m    386\u001B[0m z_map \u001B[38;5;241m=\u001B[39m \u001B[38;5;241m-\u001B[39mnp\u001B[38;5;241m.\u001B[39mtile((np\u001B[38;5;241m.\u001B[39marange(\u001B[38;5;241m0\u001B[39m, Hd) \u001B[38;5;241m-\u001B[39m c_y) \u001B[38;5;241m*\u001B[39m h_interval, [Wd, \u001B[38;5;241m1\u001B[39m])\u001B[38;5;241m.\u001B[39mT\n\u001B[0;32m    387\u001B[0m D \u001B[38;5;241m=\u001B[39m np\u001B[38;5;241m.\u001B[39msqrt(x_map \u001B[38;5;241m*\u001B[39m\u001B[38;5;241m*\u001B[39m \u001B[38;5;241m2\u001B[39m \u001B[38;5;241m+\u001B[39m y_map \u001B[38;5;241m*\u001B[39m\u001B[38;5;241m*\u001B[39m \u001B[38;5;241m2\u001B[39m \u001B[38;5;241m+\u001B[39m z_map \u001B[38;5;241m*\u001B[39m\u001B[38;5;241m*\u001B[39m \u001B[38;5;241m2\u001B[39m)\n\u001B[1;32m--> 389\u001B[0m xyz \u001B[38;5;241m=\u001B[39m np\u001B[38;5;241m.\u001B[39mzeros([Hd, Wd, \u001B[38;5;241m3\u001B[39m], \u001B[43mnp\u001B[49m\u001B[38;5;241;43m.\u001B[39;49m\u001B[43mfloat\u001B[49m)\n\u001B[0;32m    390\u001B[0m xyz[:, :, \u001B[38;5;241m0\u001B[39m] \u001B[38;5;241m=\u001B[39m (x_map \u001B[38;5;241m/\u001B[39m D)[:, :]\n\u001B[0;32m    391\u001B[0m xyz[:, :, \u001B[38;5;241m1\u001B[39m] \u001B[38;5;241m=\u001B[39m (y_map \u001B[38;5;241m/\u001B[39m D)[:, :]\n",
      "File \u001B[1;32m~\\AppData\\Local\\Programs\\Python\\Python39\\lib\\site-packages\\numpy\\__init__.py:353\u001B[0m, in \u001B[0;36m__getattr__\u001B[1;34m(attr)\u001B[0m\n\u001B[0;32m    348\u001B[0m     warnings\u001B[38;5;241m.\u001B[39mwarn(\n\u001B[0;32m    349\u001B[0m         \u001B[38;5;124mf\u001B[39m\u001B[38;5;124m\"\u001B[39m\u001B[38;5;124mIn the future `np.\u001B[39m\u001B[38;5;132;01m{\u001B[39;00mattr\u001B[38;5;132;01m}\u001B[39;00m\u001B[38;5;124m` will be defined as the \u001B[39m\u001B[38;5;124m\"\u001B[39m\n\u001B[0;32m    350\u001B[0m         \u001B[38;5;124m\"\u001B[39m\u001B[38;5;124mcorresponding NumPy scalar.\u001B[39m\u001B[38;5;124m\"\u001B[39m, \u001B[38;5;167;01mFutureWarning\u001B[39;00m, stacklevel\u001B[38;5;241m=\u001B[39m\u001B[38;5;241m2\u001B[39m)\n\u001B[0;32m    352\u001B[0m \u001B[38;5;28;01mif\u001B[39;00m attr \u001B[38;5;129;01min\u001B[39;00m __former_attrs__:\n\u001B[1;32m--> 353\u001B[0m     \u001B[38;5;28;01mraise\u001B[39;00m \u001B[38;5;167;01mAttributeError\u001B[39;00m(__former_attrs__[attr])\n\u001B[0;32m    355\u001B[0m \u001B[38;5;28;01mif\u001B[39;00m attr \u001B[38;5;241m==\u001B[39m \u001B[38;5;124m'\u001B[39m\u001B[38;5;124mtesting\u001B[39m\u001B[38;5;124m'\u001B[39m:\n\u001B[0;32m    356\u001B[0m     \u001B[38;5;28;01mimport\u001B[39;00m \u001B[38;5;21;01mnumpy\u001B[39;00m\u001B[38;5;21;01m.\u001B[39;00m\u001B[38;5;21;01mtesting\u001B[39;00m \u001B[38;5;28;01mas\u001B[39;00m \u001B[38;5;21;01mtesting\u001B[39;00m\n",
      "\u001B[1;31mAttributeError\u001B[0m: module 'numpy' has no attribute 'float'.\n`np.float` was a deprecated alias for the builtin `float`. To avoid this error in existing code, use `float` by itself. Doing this will not modify any behavior and is safe. If you specifically wanted the numpy scalar type, use `np.float64` here.\nThe aliases was originally deprecated in NumPy 1.20; for more details and guidance see the original release note at:\n    https://numpy.org/devdocs/release/1.20.0-notes.html#deprecations"
     ]
    }
   ],
   "source": [
    "import numpy as np\n",
    "from e2p import e2p\n",
    "from omnicv import fisheyeImgConv\n",
    "\n",
    "\n",
    "def forward_gnomonic_projection(theta0, phi0, theta, phi):\n",
    "    cosc = np.sin(phi0) * np.sin(phi) + np.cos(phi0) * np.cos(phi) * np.cos(theta - theta0)\n",
    "    x = np.cos(phi) * np.sin(theta - theta0) / cosc\n",
    "    y = (np.cos(phi0) * np.sin(phi) - np.sin(phi0) * np.cos(phi) * np.cos(theta - theta0)) / cosc\n",
    "    return x, y\n",
    "\n",
    "# def find_region(x0, y0, hw, fov_rad):  \n",
    "#     h, w = hw\n",
    "#     h_fov, v_fov = fov_rad\n",
    "#     # Нахождение угла для точки x0 на тангенциальной прямой\n",
    "#     angle_x0 = np.arctan(x0)\n",
    "#     # Перевод угла в диапазон [0, fov]\n",
    "#     angle_x0 = abs(angle_x0 - h_fov / 2)\n",
    "#     # Вычисление номера области\n",
    "#     x1 = int((angle_x0 / h_fov) * w)\n",
    "#     \n",
    "#     # Нахождение угла для точки y0 на тангенциальной прямой\n",
    "#     angle_y0 = np.arctan2(y0, np.sqrt(x0**2 + 1))\n",
    "#     # Перевод угла в диапазон [0, fov]\n",
    "#     angle_y0 = abs(angle_y0 - v_fov / 2)\n",
    "#     # Вычисление номера области\n",
    "#     y1 = int((angle_y0 / v_fov) * h)\n",
    "#     return x1, y1\n",
    "\n",
    "def e2p_coor(eq_xy, fov_deg, u_deg, v_deg, eq_hw, out_hw):\n",
    "    u_rad, v_rad = np.radians(u_deg), np.radians(v_deg)\n",
    "    h_fov, v_fov = np.radians(fov_deg[0]), np.radians(fov_deg[1])\n",
    "    \n",
    "    latitude = np.linspace(-np.pi, np.pi, num=eq_hw[1], dtype=np.float32)  # Широта \n",
    "    longitude = np.linspace(-np.pi, np.pi, num=eq_hw[0],  dtype=np.float32) / 2 # Долгота \n",
    "    grid = np.stack(np.meshgrid(latitude, longitude), axis=-1)\n",
    "    \n",
    "    # Перевод [x, y] в сферические координаты [phi, lambda] \n",
    "    theta, phi = grid[int(eq_xy[1]), int(eq_xy[0]), :]\n",
    "    px0, py0 = forward_gnomonic_projection(u_rad, v_rad, theta, phi)\n",
    "    x_max, y_max = np.tan(h_fov / 2), np.tan(v_fov / 2)\n",
    "    \n",
    "    # Нормализация значений точки относительно области изображения \n",
    "    px_norm, py_norm = (px0 + x_max) / (2 * x_max), (y_max + py0) / (2 * y_max)\n",
    "    # px1, py1 = find_region(px0, py0, out_hw, (h_fov, v_fov))\n",
    "    # Нахождение координат точки на изображении \n",
    "    if v_rad != 0:\n",
    "        return px_norm * out_hw[1], out_hw[0] - py_norm * out_hw[0]\n",
    "    else: \n",
    "        return px_norm * out_hw[1], py_norm * out_hw[0]\n",
    "    # return px1, py1\n",
    "\n",
    "\n",
    "# area, fov_deg, u_deg, v_deg, in_rot\n",
    "views = [\n",
    "         ['0', (150, 150), 0, 0, 0],\n",
    "         # ['1', (150, 150), 80, 0, 0],\n",
    "         # ['2', (120, 150), 80, 0, 0],\n",
    "         # ['3', (130, 150), 150, 0, 0],\n",
    "         # ['4', (130, 150), 150, 0, 0],\n",
    "         # ['5', (150, 150), -110, 0, 0]\n",
    "         ]\n",
    "equirectangular_img = panorama\n",
    "h, w = equirectangular_img.shape[:2]\n",
    "\n",
    "for area, fov_deg, u_deg, v_deg, in_rot in views:\n",
    "    out_hw = (\n",
    "        (h * fov_deg[1]) // 180,\n",
    "        (w * fov_deg[0]) // 360,\n",
    "    )\n",
    "    mapper = fisheyeImgConv()\n",
    "    pers_img1 = mapper.eqruirect2persp(equirectangular_img, 150, 0, 0, out_hw[0], out_hw[1])\n",
    "    pers_img = e2p(equirectangular_img, fov_deg, u_deg, v_deg, out_hw, in_rot_deg=0, mode='bilinear')\n",
    "    cv2.imshow('Overlay1', pers_img1)\n",
    "    \n",
    "    cv2.imshow('Overlay', pers_img)\n",
    "    cv2.waitKey(0)\n",
    "    cv2.destroyAllWindows()\n",
    "    pers_points = []\n",
    "    for pt in area_mappings[area][0]:\n",
    "        point = (e2p_coor(pt, fov_deg, u_deg, v_deg, (h, w), out_hw))\n",
    "        cv2.circle(pers_img, (int(point[0]), int(point[1])), 2, (0, 0, 255), -1)\n",
    "        print(point)\n",
    "        cv2.imshow('Overlay', pers_img)\n",
    "        cv2.waitKey(0)\n",
    "        cv2.destroyAllWindows()\n",
    "        pers_points.append(point)\n",
    "        \n",
    "    dst_hw = (250, area_mappings[area][1])\n",
    "    src_points = np.array(pers_points, dtype=np.float32)\n",
    "    dst_points = np.array([[0, 0], [0, 250], [dst_hw[1], 0], [dst_hw[1], 250]], dtype=np.float32)\n",
    "    \n",
    "    perspective_matrix = cv2.getPerspectiveTransform(src_points, dst_points)\n",
    "    corrected_image = cv2.warpPerspective(pers_img, perspective_matrix, (dst_hw[1], dst_hw[0]))\n",
    "    \n",
    "    # Сохранение изображений\n",
    "    cv2.imwrite(f\"views/{area}_proj.jpg\", corrected_image) "
   ],
   "metadata": {
    "collapsed": false,
    "ExecuteTime": {
     "end_time": "2024-02-15T15:54:21.914275500Z",
     "start_time": "2024-02-15T15:54:21.569151Z"
    }
   },
   "id": "848c8f432674d511",
   "execution_count": 285
  },
  {
   "cell_type": "code",
   "outputs": [
    {
     "name": "stdout",
     "output_type": "stream",
     "text": [
      "[[163. 354.]\n",
      " [ 89.  60.]\n",
      " [349.  59.]\n",
      " [326. 170.]\n",
      " [266. 170.]\n",
      " [237. 354.]]\n"
     ]
    },
    {
     "ename": "error",
     "evalue": "OpenCV(4.9.0) D:\\a\\opencv-python\\opencv-python\\opencv\\modules\\imgproc\\src\\imgwarp.cpp:3547: error: (-215:Assertion failed) src.checkVector(2, CV_32F) == 4 && dst.checkVector(2, CV_32F) == 4 in function 'cv::getPerspectiveTransform'\n",
     "output_type": "error",
     "traceback": [
      "\u001B[1;31m---------------------------------------------------------------------------\u001B[0m",
      "\u001B[1;31merror\u001B[0m                                     Traceback (most recent call last)",
      "Cell \u001B[1;32mIn[250], line 26\u001B[0m\n\u001B[0;32m     24\u001B[0m src_points \u001B[38;5;241m=\u001B[39m np\u001B[38;5;241m.\u001B[39marray(pers_points, dtype\u001B[38;5;241m=\u001B[39mnp\u001B[38;5;241m.\u001B[39mfloat32)\n\u001B[0;32m     25\u001B[0m \u001B[38;5;28mprint\u001B[39m(src_points)\n\u001B[1;32m---> 26\u001B[0m perspective_matrix \u001B[38;5;241m=\u001B[39m \u001B[43mcv2\u001B[49m\u001B[38;5;241;43m.\u001B[39;49m\u001B[43mgetPerspectiveTransform\u001B[49m\u001B[43m(\u001B[49m\u001B[43msrc_points\u001B[49m\u001B[43m,\u001B[49m\u001B[43m \u001B[49m\u001B[43mdst_points\u001B[49m\u001B[43m)\u001B[49m\n\u001B[0;32m     27\u001B[0m corrected_image \u001B[38;5;241m=\u001B[39m cv2\u001B[38;5;241m.\u001B[39mwarpPerspective(pers_img, perspective_matrix, (dst_hw[\u001B[38;5;241m1\u001B[39m], dst_hw[\u001B[38;5;241m0\u001B[39m]))\n\u001B[0;32m     29\u001B[0m \u001B[38;5;66;03m# Сохранение изображений\u001B[39;00m\n",
      "\u001B[1;31merror\u001B[0m: OpenCV(4.9.0) D:\\a\\opencv-python\\opencv-python\\opencv\\modules\\imgproc\\src\\imgwarp.cpp:3547: error: (-215:Assertion failed) src.checkVector(2, CV_32F) == 4 && dst.checkVector(2, CV_32F) == 4 in function 'cv::getPerspectiveTransform'\n"
     ]
    }
   ],
   "source": [
    "# area, fov_deg, u_deg, v_deg, in_rot\n",
    "views = [['ceil', (150, 140), 0, 110, 0],\n",
    "         ['floor', (150, 130), 180, -70, 0],\n",
    "]\n",
    "dst_points = np.array([[0, 0], [0, 602], [205, 602], [205, 438], [165, 438], [165, 0]], dtype=np.float32)\n",
    "for area, fov_deg, u_deg, v_deg, in_rot in views:\n",
    "    out_hw = (\n",
    "        (h * fov_deg[1]) // 180,\n",
    "        (w * fov_deg[0]) // 360,\n",
    "    )\n",
    "    pers_img = e2p(equirectangular_img, fov_deg, u_deg, v_deg, out_hw, in_rot_deg=0, mode='bilinear')\n",
    "    pers_img = cv2.flip(pers_img, 0)\n",
    "    pers_points = []\n",
    "    for pt in area_mappings[area]:\n",
    "        point = (e2p_coor(pt, fov_deg, u_deg, v_deg, (h, w), out_hw))\n",
    "        cv2.circle(pers_img, (int(point[0]), int(point[1])), 2, (0, 0, 255), -1)\n",
    "        \n",
    "        cv2.imshow('Overlay', pers_img)\n",
    "        cv2.waitKey(0)\n",
    "        cv2.destroyAllWindows()\n",
    "        pers_points.append(point)\n",
    "        \n",
    "    dst_hw = (602, 205)\n",
    "    src_points = np.array(pers_points, dtype=np.float32)\n",
    "    print(src_points)\n",
    "    perspective_matrix = cv2.getPerspectiveTransform(src_points, dst_points)\n",
    "    corrected_image = cv2.warpPerspective(pers_img, perspective_matrix, (dst_hw[1], dst_hw[0]))\n",
    "    \n",
    "    # Сохранение изображений\n",
    "    cv2.imwrite(f\"views/{area}_proj.jpg\", corrected_image) "
   ],
   "metadata": {
    "collapsed": false,
    "ExecuteTime": {
     "end_time": "2024-02-15T14:03:32.903018200Z",
     "start_time": "2024-02-15T14:03:13.885902500Z"
    }
   },
   "id": "4dc168e78236e368",
   "execution_count": 250
  },
  {
   "cell_type": "code",
   "outputs": [
    {
     "name": "stdout",
     "output_type": "stream",
     "text": [
      "PointCloud on CPU:0 [25690112 points (Float32)].\n",
      "Attributes: colors (dtype = Float32, shape = {25690112, 3}).\n"
     ]
    }
   ],
   "source": [
    "import open3d as o3d\n",
    "import open3d.cpu.pybind.core as o3c\n",
    "import numpy as np\n",
    "from skimage import transform\n",
    "\n",
    "def panoramic_to_pointcloud(image, depth_map, fov_horizontal_deg=360, fov_vertical_deg=180):\n",
    "    # Параметры панорамы\n",
    "    height, width, _ = image.shape\n",
    "    fov_horizontal_rad = np.radians(fov_horizontal_deg)\n",
    "    fov_vertical_rad = np.radians(fov_vertical_deg)\n",
    "\n",
    "    resized_image = transform.resize(image, (height * 7, width * 7, 3), mode='reflect')\n",
    "    resized_depth_map = transform.resize(depth_map, (height * 7, width * 7), mode='reflect')\n",
    "    new_height, new_width, _ = resized_image.shape\n",
    "    points = []\n",
    "    colors = []\n",
    "\n",
    "    # Преобразование координат из пиксельных в 3D\n",
    "    for v in range(new_height):\n",
    "        for u in range(new_width):\n",
    "            d = resized_depth_map[v, u]\n",
    "            if d > 0:\n",
    "                phi = (v / new_height) * fov_vertical_rad\n",
    "                theta = (u / new_width) * fov_horizontal_rad\n",
    "\n",
    "                x = d * np.sin(phi) * np.cos(theta)\n",
    "                y = d * np.sin(phi) * np.sin(theta)\n",
    "                z = d * np.cos(phi)\n",
    "\n",
    "                points.append([x, y, z])\n",
    "                colors.append(list(resized_image[v, u, :]))\n",
    "\n",
    "    # Создание PointCloud\n",
    "    pcd = o3d.t.geometry.PointCloud(o3c.Tensor(points, o3c.float32))\n",
    "    pcd.point.colors = o3c.Tensor(colors, o3c.float32)\n",
    "    # pcd.estimate_normals(max_nn=30, radius=0.3)\n",
    "\n",
    "    return pcd\n",
    "\n",
    "# Пример использования\n",
    "# image - изображение с панорамой\n",
    "# depth_map - карта глубины для каждого пикселя панорамы\n",
    "# fov_horizontal_deg, fov_vertical_deg - горизонтальное и вертикальное поле зрения\n",
    "pointcloud = panoramic_to_pointcloud(panorama, depth)\n",
    "print(pointcloud)\n"
   ],
   "metadata": {
    "collapsed": false,
    "ExecuteTime": {
     "end_time": "2024-02-12T09:05:18.016428600Z",
     "start_time": "2024-02-12T08:55:35.371900100Z"
    }
   },
   "id": "172133c5c04d1df0",
   "execution_count": 11
  },
  {
   "cell_type": "code",
   "outputs": [],
   "source": [
    "o3d.visualization.draw_geometries([pointcloud.to_legacy()],\n",
    "                                  point_show_normal=True)"
   ],
   "metadata": {
    "collapsed": false,
    "ExecuteTime": {
     "end_time": "2024-02-13T11:48:29.672743600Z",
     "start_time": "2024-02-13T11:47:12.476963400Z"
    }
   },
   "id": "8ed9dd47b631c1dc",
   "execution_count": 122
  },
  {
   "cell_type": "code",
   "outputs": [
    {
     "data": {
      "text/plain": "True"
     },
     "execution_count": 18,
     "metadata": {},
     "output_type": "execute_result"
    }
   ],
   "source": [
    "o3d.io.write_point_cloud(\"pointclouds/mesh7x.ply\", pointcloud.to_legacy())"
   ],
   "metadata": {
    "collapsed": false,
    "ExecuteTime": {
     "end_time": "2024-02-12T09:30:26.418136600Z",
     "start_time": "2024-02-12T09:30:07.838541400Z"
    }
   },
   "id": "60471446c7df4e40",
   "execution_count": 18
  },
  {
   "cell_type": "code",
   "outputs": [],
   "source": [
    "pcd = pointcloud.to_legacy()\n",
    "triangles = o3d.geometry.TriangleMesh.create_from_point_cloud_alpha_shape(pcd, alpha=0.5)\n",
    "\n",
    "# Визуализация результатов\n",
    "o3d.visualization.draw_geometries([pcd, triangles])"
   ],
   "metadata": {
    "collapsed": false
   },
   "id": "be9cb2cc39bec2f5",
   "execution_count": null
  },
  {
   "cell_type": "code",
   "outputs": [],
   "source": [
    "# alpha shape \n",
    "mesh = o3d.geometry.TriangleMesh.create_from_point_cloud_alpha_shape(pcd, alpha=100)\n",
    "mesh.compute_vertex_normals()\n",
    "o3d.visualization.draw_geometries([mesh], mesh_show_back_face=True)"
   ],
   "metadata": {
    "collapsed": false
   },
   "id": "18914fb141f0e666",
   "execution_count": null
  }
 ],
 "metadata": {
  "kernelspec": {
   "display_name": "Python 3",
   "language": "python",
   "name": "python3"
  },
  "language_info": {
   "codemirror_mode": {
    "name": "ipython",
    "version": 2
   },
   "file_extension": ".py",
   "mimetype": "text/x-python",
   "name": "python",
   "nbconvert_exporter": "python",
   "pygments_lexer": "ipython2",
   "version": "2.7.6"
  }
 },
 "nbformat": 4,
 "nbformat_minor": 5
}
