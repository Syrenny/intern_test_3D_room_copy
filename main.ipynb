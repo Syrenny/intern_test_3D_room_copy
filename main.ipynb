{
 "cells": [
  {
   "cell_type": "code",
   "execution_count": 1,
   "id": "initial_id",
   "metadata": {
    "collapsed": true,
    "ExecuteTime": {
     "end_time": "2024-02-10T13:36:11.013318800Z",
     "start_time": "2024-02-10T13:36:09.398289300Z"
    }
   },
   "outputs": [],
   "source": [
    "import cv2\n",
    "import numpy as np\n",
    "import matplotlib.pyplot as plt\n",
    "import json "
   ]
  },
  {
   "cell_type": "markdown",
   "source": [
    "### Загрузка необходимых данных "
   ],
   "metadata": {
    "collapsed": false
   },
   "id": "820b224568a3552c"
  },
  {
   "cell_type": "code",
   "outputs": [],
   "source": [
    "with open(\"data/test_object_lu.json\", \"r\") as file:\n",
    "    plan = json.load(file)\n",
    "    \n",
    "partition = cv2.imread('data/partition.jpg')\n",
    "v_corners = np.load(\"data/v_corners.npy\")\n",
    "h_corners = np.load(\"data/h_corners.npy\")\n",
    "panorama = cv2.imread(\"data/image_1024_aligned_rgb.png\")\n",
    "depth = np.load(\"data/depth_map.npy\") * 1000 # in millimeters "
   ],
   "metadata": {
    "collapsed": false,
    "ExecuteTime": {
     "end_time": "2024-02-10T13:36:11.061013800Z",
     "start_time": "2024-02-10T13:36:11.013318800Z"
    }
   },
   "id": "e71a3ffa0912992d",
   "execution_count": 2
  },
  {
   "cell_type": "code",
   "outputs": [
    {
     "name": "stdout",
     "output_type": "stream",
     "text": [
      "(512, 1024)\n",
      "6101.31\n",
      "[[1214.8892 1214.8892 1214.8892 ... 1214.8892 1214.8892 1214.8892]\n",
      " [1214.9348 1214.9348 1214.9348 ... 1214.9348 1214.9348 1214.9348]\n",
      " [1215.0264 1215.0264 1215.0264 ... 1215.0264 1215.0264 1215.0264]\n",
      " ...\n",
      " [1600.1882 1600.1882 1600.1882 ... 1600.1882 1600.1882 1600.1882]\n",
      " [1600.0677 1600.0677 1600.0677 ... 1600.0677 1600.0677 1600.0677]\n",
      " [1600.0076 1600.0076 1600.0076 ... 1600.0076 1600.0076 1600.0076]]\n"
     ]
    }
   ],
   "source": [
    "print(depth.shape)\n",
    "print(depth.max())\n",
    "print(depth)\n",
    "# Нормализация данных с камеры глубины\n",
    "scaled_depth = ((depth - np.min(depth)) / (np.max(depth) - np.min(depth)) * 255).astype(np.uint8)\n",
    "cv2.imshow('Depth Image', scaled_depth)\n",
    "cv2.waitKey(0)\n",
    "cv2.destroyAllWindows()"
   ],
   "metadata": {
    "collapsed": false,
    "ExecuteTime": {
     "end_time": "2024-02-10T13:36:13.750186Z",
     "start_time": "2024-02-10T13:36:11.059014400Z"
    }
   },
   "id": "7345ea0efa426f33",
   "execution_count": 3
  },
  {
   "cell_type": "code",
   "outputs": [],
   "source": [
    "# Загрузить изображения\n",
    "alpha = 0.7\n",
    "\n",
    "# Преобразовать глубину в трехканальное изображение\n",
    "depth_colored = cv2.applyColorMap((scaled_depth * 255).astype(np.uint8), cv2.COLORMAP_JET)\n",
    "\n",
    "# Наложить изображения\n",
    "overlay = cv2.addWeighted(panorama, alpha, depth_colored, 1 - alpha, 0)\n",
    "\n",
    "# Вывести результат\n",
    "cv2.imshow('Overlay', overlay)\n",
    "cv2.waitKey(0)\n",
    "cv2.destroyAllWindows()"
   ],
   "metadata": {
    "collapsed": false,
    "ExecuteTime": {
     "end_time": "2024-02-10T13:36:14.362867Z",
     "start_time": "2024-02-10T13:36:13.756252100Z"
    }
   },
   "id": "91739aba9e1c40c6",
   "execution_count": 4
  },
  {
   "cell_type": "code",
   "outputs": [
    {
     "name": "stdout",
     "output_type": "stream",
     "text": [
      "[[  30.914364  222.41164 ]\n",
      " [  30.914364  298.64883 ]\n",
      " [ 363.15613   140.81924 ]\n",
      " [ 363.15613   392.54047 ]\n",
      " [ 672.78357   149.66058 ]\n",
      " [ 672.78357   383.4991  ]\n",
      " [ 801.5895    137.09825 ]\n",
      " [ 801.5895    396.26495 ]\n",
      " [ 845.40314    76.09795 ]\n",
      " [ 845.40314   451.50623 ]\n",
      " [1008.1279    221.95033 ]\n",
      " [1008.1279    299.23853 ]]\n"
     ]
    }
   ],
   "source": [
    "cv2.imshow(\"source_image\", panorama)\n",
    "cv2.waitKey(0)\n",
    "cv2.destroyAllWindows()\n",
    "print(v_corners)"
   ],
   "metadata": {
    "collapsed": false,
    "ExecuteTime": {
     "end_time": "2024-02-10T13:36:14.919556700Z",
     "start_time": "2024-02-10T13:36:14.367867300Z"
    }
   },
   "id": "726b51aeffb24133",
   "execution_count": 5
  },
  {
   "cell_type": "code",
   "outputs": [
    {
     "name": "stdout",
     "output_type": "stream",
     "text": [
      "{'0': (array([[ 30.914364, 222.41164 ],\n",
      "       [ 30.914364, 298.64883 ],\n",
      "       [363.15613 , 140.81924 ],\n",
      "       [363.15613 , 392.54047 ]], dtype=float32), 2050), '1': (array([[363.15613, 140.81924],\n",
      "       [363.15613, 392.54047],\n",
      "       [672.78357, 149.66058],\n",
      "       [672.78357, 383.4991 ]], dtype=float32), 1640), '2': (array([[672.78357, 149.66058],\n",
      "       [672.78357, 383.4991 ],\n",
      "       [801.5895 , 137.09825],\n",
      "       [801.5895 , 396.26495]], dtype=float32), 400), '3': (array([[801.5895 , 137.09825],\n",
      "       [801.5895 , 396.26495],\n",
      "       [845.40314,  76.09795],\n",
      "       [845.40314, 451.50623]], dtype=float32), 4370), '4': (array([[ 845.40314,   76.09795],\n",
      "       [ 845.40314,  451.50623],\n",
      "       [1008.1279 ,  221.95033],\n",
      "       [1008.1279 ,  299.23853]], dtype=float32), 1650), '5': (array([[1008.1279  ,  221.95033 ],\n",
      "       [1008.1279  ,  299.23853 ],\n",
      "       [  30.914364,  222.41164 ],\n",
      "       [  30.914364,  298.64883 ]], dtype=float32), 6020)}\n"
     ]
    }
   ],
   "source": [
    "ceil_height = 250\n",
    "area_mappings = {\n",
    "    '0': (v_corners[0:4], 2050),\n",
    "    '1': (v_corners[2:6], 1640),\n",
    "    '2': (v_corners[4:8], 400),\n",
    "    '3': (v_corners[6:10], 4370),\n",
    "    '4': (v_corners[8:12], 1650),\n",
    "    '5': (np.concatenate((v_corners[10:], v_corners[:2])), 6020),\n",
    "}\n",
    "print(area_mappings)"
   ],
   "metadata": {
    "collapsed": false,
    "ExecuteTime": {
     "end_time": "2024-02-10T13:36:14.954725500Z",
     "start_time": "2024-02-10T13:36:14.922559100Z"
    }
   },
   "id": "86b2d197ea6f8984",
   "execution_count": 6
  },
  {
   "cell_type": "code",
   "outputs": [
    {
     "name": "stdout",
     "output_type": "stream",
     "text": [
      "start of the line: 30\n",
      "end of the line: 363\n",
      "[[30, 222.71733], [62, 192.55711], [94, 169.15553], [126, 150.01512], [158, 136.72841], [190, 129.05185], [222, 124.01126], [254, 122.649155], [286, 123.07381], [318, 126.99274], [350, 135.25735]]\n"
     ]
    }
   ],
   "source": [
    "start = int(v_corners[0][0])\n",
    "print(\"start of the line:\", start)\n",
    "end = int(v_corners[2][0])\n",
    "print(\"end of the line:\", end)\n",
    "line = []\n",
    "for x in range(start, end+1, 32):\n",
    "    line.append([x, h_corners[:, x][0]])\n",
    "print(line)"
   ],
   "metadata": {
    "collapsed": false,
    "ExecuteTime": {
     "end_time": "2024-02-10T13:36:14.955724700Z",
     "start_time": "2024-02-10T13:36:14.940658Z"
    }
   },
   "id": "f0f1f1e91b778535",
   "execution_count": 7
  },
  {
   "cell_type": "code",
   "outputs": [
    {
     "name": "stdout",
     "output_type": "stream",
     "text": [
      "[ 30.914364 222.41164 ] [ 30.914364 298.64883 ] [363.15613 140.81924] [363.15613 392.54047]\n",
      "[363.15613 140.81924] [363.15613 392.54047] [672.78357 149.66058] [672.78357 383.4991 ]\n",
      "[672.78357 149.66058] [672.78357 383.4991 ] [801.5895  137.09825] [801.5895  396.26495]\n",
      "[801.5895  137.09825] [801.5895  396.26495] [845.40314  76.09795] [845.40314 451.50623]\n",
      "[845.40314  76.09795] [845.40314 451.50623] [1008.1279   221.95033] [1008.1279   299.23853]\n"
     ]
    }
   ],
   "source": [
    "for i in range(0, len(v_corners) - 2, 2):\n",
    "    print(v_corners[i], v_corners[i + 1], v_corners[i + 2], v_corners[i + 3])"
   ],
   "metadata": {
    "collapsed": false,
    "ExecuteTime": {
     "end_time": "2024-02-10T13:36:15.048024900Z",
     "start_time": "2024-02-10T13:36:14.951726900Z"
    }
   },
   "id": "bab1de96c9722a74",
   "execution_count": 8
  },
  {
   "cell_type": "code",
   "outputs": [
    {
     "name": "stdout",
     "output_type": "stream",
     "text": [
      "[[221.67708 221.43863 221.38431 ... 222.38773 223.78665 223.0257 ]\n",
      " [299.86584 298.79175 299.72705 ... 298.76703 297.46896 299.3693 ]]\n"
     ]
    }
   ],
   "source": [
    "print(h_corners)"
   ],
   "metadata": {
    "collapsed": false,
    "ExecuteTime": {
     "end_time": "2024-02-10T13:36:15.049024500Z",
     "start_time": "2024-02-10T13:36:14.968725800Z"
    }
   },
   "id": "c6cce8a3069ae207",
   "execution_count": 9
  },
  {
   "cell_type": "code",
   "outputs": [
    {
     "name": "stdout",
     "output_type": "stream",
     "text": [
      "(512, 1024, 3)\n"
     ]
    }
   ],
   "source": [
    "print(panorama.shape)"
   ],
   "metadata": {
    "collapsed": false,
    "ExecuteTime": {
     "end_time": "2024-02-10T13:36:15.051025100Z",
     "start_time": "2024-02-10T13:36:14.985799400Z"
    }
   },
   "id": "43eee3934ea5b815",
   "execution_count": 10
  },
  {
   "cell_type": "code",
   "outputs": [
    {
     "name": "stdout",
     "output_type": "stream",
     "text": [
      "(86.6566080464152, 171.7496131583997)\n",
      "(86.6566080464152, 560.2852384625255)\n",
      "(638.2329423347452, 189.85125184436075)\n",
      "(638.2329423347452, 537.2721725577104)\n"
     ]
    }
   ],
   "source": [
    "import numpy as np\n",
    "from e2p import e2p\n",
    "import utils\n",
    "\n",
    "def e2p_coor(eq_coor, fov_deg, u_deg, v_deg, eq_hw, out_hw):\n",
    "    in_x, in_y = eq_coor\n",
    "    u = np.linspace(-np.pi, np.pi, num=w, dtype=np.float32) # Широта \n",
    "    v = np.linspace(np.pi, -np.pi, num=h, dtype=np.float32) / 2 # Долгота \n",
    "    grid = np.stack(np.meshgrid(u, v), axis=-1)\n",
    "    \n",
    "    u, v = grid[int(in_y), int(in_x), :]\n",
    "    x_max, y_max = np.tan(np.radians(fov_deg[0]) / 2), np.tan(np.radians(fov_deg[1]) / 2)\n",
    "    \n",
    "    pt = (abs(np.tan(u) + x_max), \n",
    "          abs(np.tan(v) - y_max))\n",
    "\n",
    "    grid_size = (x_max * 2 / out_hw[1], \n",
    "                 y_max * 2 / out_hw[0])\n",
    "    \n",
    "    return pt[0] / grid_size[0], pt[1] / grid_size[1]\n",
    "\n",
    "points = [\n",
    "    [363.15613, 140.81924],\n",
    "    [363.15613, 392.54047],\n",
    "    [672.78357, 149.66058],\n",
    "    [672.78357, 383.4991],\n",
    "]\n",
    "# area, fov_deg, u_deg, v_deg, in_rot\n",
    "views = [['0', (120, 120), 0, 0, 0],\n",
    "         # ['1', (120, 150), 80, 0, 0],\n",
    "         # ['2', (120, 150), 80, 0, 0],\n",
    "         # ['3', (130, 150), 150, 0, 0],\n",
    "         # ['4', (130, 150), 150, 0, 0],\n",
    "         # ['5', (150, 140), -110, 0, 0],\n",
    "         ]\n",
    "\n",
    "         # ['floor', (130, 140), 0, 110, 0],\n",
    "         # ['ceil', (110, 110), 0, -110, 0]\n",
    "equirectangular_img = panorama\n",
    "h, w = equirectangular_img.shape[:2]\n",
    "\n",
    "for area, fov_deg, u_deg, v_deg, in_rot in views:\n",
    "    out_hw = (\n",
    "        (h * fov_deg[1]) // 180 * 2,\n",
    "        (w * fov_deg[0]) // 360 * 2,\n",
    "    )\n",
    "    # Вызов функции e2p\n",
    "    pers_img = e2p(equirectangular_img, fov_deg, u_deg, v_deg, out_hw, in_rot_deg=0, mode='bilinear')\n",
    "    for pt in points:\n",
    "        point = (e2p_coor(pt, fov_deg, u_deg, v_deg, (h, w), out_hw))\n",
    "        print(point)\n",
    "        cv2.circle(pers_img, (int(point[0]), int(point[1])), 5, (0, 0, 255), -1)\n",
    "    # Сохранение изображений\n",
    "    cv2.imwrite(f\"views/{area}_proj.jpg\", pers_img) "
   ],
   "metadata": {
    "collapsed": false,
    "ExecuteTime": {
     "end_time": "2024-02-10T13:36:15.554313600Z",
     "start_time": "2024-02-10T13:36:15.009910900Z"
    }
   },
   "id": "848c8f432674d511",
   "execution_count": 11
  },
  {
   "cell_type": "code",
   "outputs": [
    {
     "name": "stdout",
     "output_type": "stream",
     "text": [
      "512 1024\n"
     ]
    }
   ],
   "source": [
    "import numpy as np\n",
    "from e2p import e2p\n",
    "\n",
    "\n",
    "equirectangular_img = panorama\n",
    "h, w = equirectangular_img.shape[:2]\n",
    "print(h, w)\n",
    "# face_k, fov_deg, u_deg, v_deg, in_rot\n",
    "views = [['f', (120, 120), 0, 0, 0],\n",
    "         ['r', (120, 150), 80, 0, 0],\n",
    "         ['b', (130, 150), 150, 0, 0],\n",
    "         ['l', (150, 140), -110, 0, 0],\n",
    "         ['u', (130, 140), 0, 110, 0],\n",
    "         ['d', (110, 110), 0, -110, 0]]\n",
    "# Углы обзора\n",
    "# fov_deg = (120, 120)\n",
    "# u_deg = 0\n",
    "# v_deg = 90\n",
    "\n",
    "# Размер выходного изображения\n",
    "# out_hw = (1200, 900)\n",
    "for face_k, fov_deg, u_deg, v_deg, in_rot in views:\n",
    "    out_hw = (\n",
    "        (512 * fov_deg[1]) // 180 * 2,\n",
    "        (1024 * fov_deg[0]) // 360 * 2,\n",
    "    )\n",
    "    # Угол поворота входного изображения\n",
    "    in_rot_deg = 0\n",
    "    \n",
    "    # Режим интерполяции\n",
    "    mode = 'bilinear'\n",
    "    \n",
    "    # Вызов функции e2p\n",
    "    pers_img = e2p(equirectangular_img, fov_deg, u_deg, v_deg, out_hw, in_rot_deg, mode)\n",
    "    bgr_scaled_depth = cv2.cvtColor(scaled_depth, cv2.COLOR_GRAY2BGR)\n",
    "    pers_depth = e2p(bgr_scaled_depth, fov_deg, u_deg, v_deg, out_hw, in_rot_deg, mode)\n",
    "    \n",
    "    # Визуализация результата (при необходимости) \n",
    "    # cv2.imshow('Perspective Image', pers_img)\n",
    "    # cv2.imshow('Perspective Depth', pers_depth)\n",
    "    # cv2.waitKey(0)\n",
    "    # cv2.destroyAllWindows()\n",
    "    # Сохранение изображений\n",
    "    cv2.imwrite(f\"frblud/{face_k}_depth.jpg\", pers_depth)\n",
    "    cv2.imwrite(f\"frblud/{face_k}_image.jpg\", pers_img) "
   ],
   "metadata": {
    "collapsed": false,
    "ExecuteTime": {
     "end_time": "2024-02-10T13:36:20.261826800Z",
     "start_time": "2024-02-10T13:36:15.554313600Z"
    }
   },
   "id": "99598ad6c734c089",
   "execution_count": 12
  },
  {
   "cell_type": "code",
   "outputs": [],
   "source": [
    "import open3d as o3d\n",
    "import numpy as np\n",
    "import cv2\n",
    "\n",
    "# Получение ширины изображения\n",
    "# Взятие половины изображения по горизонтали\n",
    "rgb_image = cv2.imread('frblud/u_image.jpg')\n",
    "depth_image = cv2.imread('frblud/u_depth.jpg')\n",
    "width = rgb_image.shape[1]\n",
    "# Создание облака точек из данных камеры RGB-D\n",
    "rgbd_image = o3d.geometry.RGBDImage.create_from_color_and_depth(\n",
    "    o3d.geometry.Image(rgb_image), \n",
    "    o3d.geometry.Image(depth_image)\n",
    ")\n",
    "\n",
    "pcd = o3d.geometry.PointCloud.create_from_rgbd_image(\n",
    "    rgbd_image,\n",
    "    o3d.camera.PinholeCameraIntrinsic(o3d.camera.PinholeCameraIntrinsicParameters.PrimeSenseDefault))\n",
    "# Flip it, otherwise the pointcloud will be upside down\n",
    "pcd.transform([[1, 0, 0, 0], \n",
    "               [0, -1, 0, 0], \n",
    "               [0, 0, -1, 0], \n",
    "               [0, 0, 0, 1]])\n",
    "# Визуализация облака точек\n",
    "o3d.visualization.draw_geometries([pcd])"
   ],
   "metadata": {
    "collapsed": false,
    "ExecuteTime": {
     "end_time": "2024-02-10T13:41:50.160494200Z",
     "start_time": "2024-02-10T13:41:41.191436Z"
    }
   },
   "id": "4de55d47e706bd77",
   "execution_count": 16
  },
  {
   "cell_type": "code",
   "outputs": [],
   "source": [
    "# outliers removal\n",
    "cl, ind = pcd.remove_statistical_outlier(nb_neighbors=20, std_ratio=20.0)\n",
    "pcd = pcd.select_by_index(ind)\n",
    "\n",
    "# estimate normals\n",
    "pcd.estimate_normals()\n",
    "pcd.orient_normals_to_align_with_direction()\n",
    " \n",
    "# surface reconstruction\n",
    "mesh = o3d.geometry.TriangleMesh.create_from_point_cloud_poisson(pcd, depth=10, n_threads=1)[0]\n",
    "\n",
    "# rotate the mesh\n",
    "rotation = mesh.get_rotation_matrix_from_xyz((np.pi, 0, 0))\n",
    "mesh.rotate(rotation, center=(0, 0, 0))\n",
    "\n",
    "# save the mesh\n",
    "o3d.io.write_triangle_mesh(f'./mesh.obj', mesh)\n",
    "o3d.visualization.draw_geometries([pcd])"
   ],
   "metadata": {
    "collapsed": false,
    "ExecuteTime": {
     "end_time": "2024-02-10T13:38:09.897180Z",
     "start_time": "2024-02-10T13:37:21.903554900Z"
    }
   },
   "id": "5cff20de3ac27e8a",
   "execution_count": 14
  },
  {
   "cell_type": "code",
   "outputs": [],
   "source": [
    "from defisheye import Defisheye\n",
    "import cv2 \n",
    "\n",
    "dtype = 'linear'\n",
    "format = 'fullframe'\n",
    "fov = 160\n",
    "pfov = 120\n",
    "\n",
    "img = \"frblud/f_image.jpg\"\n",
    "\n",
    "obj = Defisheye(img, dtype=dtype, format=format, fov=fov, pfov=pfov)\n",
    "\n",
    "# To use the converted image in memory\n",
    "\n",
    "new_image = obj.convert()\n",
    "\n",
    "cv2.imshow(\"1\", new_image)\n",
    "cv2.waitKey(0)\n",
    "cv2.destroyAllWindows()"
   ],
   "metadata": {
    "collapsed": false,
    "ExecuteTime": {
     "end_time": "2024-02-10T13:43:36.317089200Z",
     "start_time": "2024-02-10T13:43:35.125843800Z"
    }
   },
   "id": "75ef6d9dcc74cebd",
   "execution_count": 21
  }
 ],
 "metadata": {
  "kernelspec": {
   "display_name": "Python 3",
   "language": "python",
   "name": "python3"
  },
  "language_info": {
   "codemirror_mode": {
    "name": "ipython",
    "version": 2
   },
   "file_extension": ".py",
   "mimetype": "text/x-python",
   "name": "python",
   "nbconvert_exporter": "python",
   "pygments_lexer": "ipython2",
   "version": "2.7.6"
  }
 },
 "nbformat": 4,
 "nbformat_minor": 5
}
